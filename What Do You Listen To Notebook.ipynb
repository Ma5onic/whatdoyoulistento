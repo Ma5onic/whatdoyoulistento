{
 "cells": [
  {
   "cell_type": "markdown",
   "metadata": {},
   "source": [
    "# What Do You Listen to?\n",
    "\n",
    "### Description\n",
    "\n",
    "As someone who regularly attends concerts it is often that you are asked, What kind of music do you listen to? Typically I will respond with the name of the band that is playing and maybe one or two other similar artists if applicable. In the back of my head I know this is not the most accurate response but with today's microgenres and availability of music it can be hard to capture exactly what you listen to might mean.\n",
    "\n",
    "I decided that as an exercise to familiarize myself a bit more with Tableau and data manipulation in Python, I would collect my entire history of saved Spotify music and try and answer a few questions.\n",
    "\n",
    "What I found was not exactly what I expected.\n",
    "\n",
    "### Contents\n",
    "\n",
    "**Section 1:** Wrangling our data\n",
    "\n",
    "**Section 2:** Analysis\n",
    "       - What genres do you listen to?\n",
    "       - How has your music taste changed over time?\n",
    "       - Are these genres bogus hipster lingo or is there some actual classifcation behind them?\n",
    "       - Based on your genre preferences, who will you like at this year's Coachella Music Festival?\n",
    "    \n",
    "**Section 3:** Wrap-up: Results, Limitations, and Improvements\n",
    "\n",
    "## Section 1: Wrangling our Data\n",
    "\n",
    "To get the data for this project we will look at all of my saved playlists. This is typically how I use Spotify; find tracks, albums, or even artist discographies I enjoy and drag them to a playlist. Unfortunately, Spotify does not make play count data easily available or else that would have been my preferred method of answering our questions, but the methodology I chose accurately represents how I use Spotify so it will have to do.\n",
    "\n",
    "The code below is the high level process for how I wrangled the data. The Song and Playlist classes are available in the util directory of this repository if you want to see how it all works."
   ]
  },
  {
   "cell_type": "code",
   "execution_count": 79,
   "metadata": {
    "collapsed": true
   },
   "outputs": [
    {
     "name": "stdout",
     "output_type": "stream",
     "text": [
      "\n",
      "            You need to set your Spotify API credentials. You can do this by\n",
      "            setting environment variables like so:\n",
      "\n",
      "            export SPOTIPY_CLIENT_ID='your-spotify-client-id'\n",
      "            export SPOTIPY_CLIENT_SECRET='your-spotify-client-secret'\n",
      "            export SPOTIPY_REDIRECT_URI='your-app-redirect-url'\n",
      "\n",
      "            Get your credentials at     \n",
      "                https://developer.spotify.com/my-applications\n",
      "        \n"
     ]
    },
    {
     "ename": "SpotifyException",
     "evalue": "http status: 550, code:-1 - no credentials set",
     "output_type": "error",
     "traceback": [
      "\u001b[0;31m\u001b[0m",
      "\u001b[0;31mSpotifyException\u001b[0mTraceback (most recent call last)",
      "\u001b[0;32m<ipython-input-79-c5a9b846b438>\u001b[0m in \u001b[0;36m<module>\u001b[0;34m()\u001b[0m\n\u001b[1;32m      4\u001b[0m \u001b[1;31m# authenticate w spotify\u001b[0m\u001b[1;33m\u001b[0m\u001b[1;33m\u001b[0m\u001b[0m\n\u001b[1;32m      5\u001b[0m \u001b[1;31m# NOTE: you need to add your own client id, secret, and redirect to the env\u001b[0m\u001b[1;33m\u001b[0m\u001b[1;33m\u001b[0m\u001b[0m\n\u001b[0;32m----> 6\u001b[0;31m \u001b[0msp\u001b[0m \u001b[1;33m=\u001b[0m \u001b[0mcreate_auth_session\u001b[0m\u001b[1;33m(\u001b[0m\u001b[1;33m)\u001b[0m\u001b[1;33m\u001b[0m\u001b[0m\n\u001b[0m\u001b[1;32m      7\u001b[0m \u001b[1;33m\u001b[0m\u001b[0m\n\u001b[1;32m      8\u001b[0m \u001b[1;31m# get list of playlists\u001b[0m\u001b[1;33m\u001b[0m\u001b[1;33m\u001b[0m\u001b[0m\n",
      "\u001b[0;32mC:\\Users\\Drew\\Desktop\\Code\\whatdoyoulistento\\util\\util.pyc\u001b[0m in \u001b[0;36mcreate_auth_session\u001b[0;34m()\u001b[0m\n\u001b[1;32m     15\u001b[0m         \u001b[0msys\u001b[0m\u001b[1;33m.\u001b[0m\u001b[0mexit\u001b[0m\u001b[1;33m(\u001b[0m\u001b[1;33m)\u001b[0m\u001b[1;33m\u001b[0m\u001b[0m\n\u001b[1;32m     16\u001b[0m \u001b[1;33m\u001b[0m\u001b[0m\n\u001b[0;32m---> 17\u001b[0;31m     \u001b[0mtoken\u001b[0m \u001b[1;33m=\u001b[0m \u001b[0mutil\u001b[0m\u001b[1;33m.\u001b[0m\u001b[0mprompt_for_user_token\u001b[0m\u001b[1;33m(\u001b[0m\u001b[0musername\u001b[0m\u001b[1;33m,\u001b[0m \u001b[0mscope\u001b[0m\u001b[1;33m)\u001b[0m\u001b[1;33m\u001b[0m\u001b[0m\n\u001b[0m\u001b[1;32m     18\u001b[0m \u001b[1;33m\u001b[0m\u001b[0m\n\u001b[1;32m     19\u001b[0m     \u001b[1;32mif\u001b[0m \u001b[0mtoken\u001b[0m\u001b[1;33m:\u001b[0m\u001b[1;33m\u001b[0m\u001b[0m\n",
      "\u001b[0;32mD:\\Anaconda\\envs\\DAND\\lib\\site-packages\\spotipy\\util.pyc\u001b[0m in \u001b[0;36mprompt_for_user_token\u001b[0;34m(username, scope, client_id, client_secret, redirect_uri)\u001b[0m\n\u001b[1;32m     45\u001b[0m                 \u001b[0mhttps\u001b[0m\u001b[1;33m:\u001b[0m\u001b[1;33m//\u001b[0m\u001b[0mdeveloper\u001b[0m\u001b[1;33m.\u001b[0m\u001b[0mspotify\u001b[0m\u001b[1;33m.\u001b[0m\u001b[0mcom\u001b[0m\u001b[1;33m/\u001b[0m\u001b[0mmy\u001b[0m\u001b[1;33m-\u001b[0m\u001b[0mapplications\u001b[0m\u001b[1;33m\u001b[0m\u001b[0m\n\u001b[1;32m     46\u001b[0m         ''')\n\u001b[0;32m---> 47\u001b[0;31m         \u001b[1;32mraise\u001b[0m \u001b[0mspotipy\u001b[0m\u001b[1;33m.\u001b[0m\u001b[0mSpotifyException\u001b[0m\u001b[1;33m(\u001b[0m\u001b[1;36m550\u001b[0m\u001b[1;33m,\u001b[0m \u001b[1;33m-\u001b[0m\u001b[1;36m1\u001b[0m\u001b[1;33m,\u001b[0m \u001b[1;34m'no credentials set'\u001b[0m\u001b[1;33m)\u001b[0m\u001b[1;33m\u001b[0m\u001b[0m\n\u001b[0m\u001b[1;32m     48\u001b[0m \u001b[1;33m\u001b[0m\u001b[0m\n\u001b[1;32m     49\u001b[0m     sp_oauth = oauth2.SpotifyOAuth(client_id, client_secret, redirect_uri, \n",
      "\u001b[0;31mSpotifyException\u001b[0m: http status: 550, code:-1 - no credentials set"
     ]
    }
   ],
   "source": [
    "from util.playlist import Playlist\n",
    "from util.util import create_auth_session\n",
    "\n",
    "# authenticate w spotify\n",
    "# NOTE: you need to add your own client id, secret, and redirect to the env\n",
    "sp = create_auth_session()\n",
    "\n",
    "# get list of playlists\n",
    "user = \"ahontz\"\n",
    "playlists = [Playlist(playlist['name'], playlist['id'], playlist['owner']['id']) for playlist in sp.user_playlists(limit=50, user=\"ahontz\")[\"items\"]]\n",
    "\n",
    "# manually adding playlists not returned by query above\n",
    "CoachElla = Playlist(\"coach ella\", \"spotify:user:ahontz:playlist:3RWmhIFFvlYj2FMiPdzZdM\", \"ahontz\")\n",
    "discover_yearly = Playlist(\"DiscoverYearly\", \"spotify:user:ahontz:playlist:7kRosMbZhZfucMBXqStcsG\", \"ahontz\")\n",
    "playlists.append(CoachElla)\n",
    "playlists.append(discover_yearly)\n",
    "\n",
    "# get tracklist and write to csv, this could take awhile\n",
    "for playlist in playlists:\n",
    "    # refresh our token in case this takes over an hour\n",
    "    try:\n",
    "        playlist.request_songs(sp)\n",
    "    except:\n",
    "        sp = create_auth_session()\n",
    "        \n",
    "    playlist.to_csv(playlist.name)"
   ]
  },
  {
   "cell_type": "markdown",
   "metadata": {},
   "source": [
    "The rest of our data manipulation will be done in pandas (joining our playlist files and writing out to csv, converting fields to dates, deconstructing genres lists to get individual genre counts, conduction our ANOVA test, etc)\n",
    "\n",
    "## Section 2: Analysis\n",
    "\n",
    "### Question 1: What genres do you listen to?\n",
    "\n",
    "**Measure:** Top 50% most frequently occuring genres in frequency tables for All Saved Music, All Saved Music from Jan 1 2016 onward, and my Top 100 most played songs of 2016.\n",
    "\n",
    "**Comments:** This measure has little regard for play count as Spotify does not expose this with their API. I theoretically could have saved a ton of \"indietronica\" music, maybe listened to one or two tracks, and then gone on and listened to the same country song for the remainder of the year and our results would still be the same.\n",
    "\n",
    "As mentioned before, this is not how I use Spotify so it shouldn't be of concern but just as a back up I do have the one insight into play count, my Top 100 most played songs of 2016, to give us some indication of what was actually used within my saved music.\n",
    "\n",
    "**Result: ** As you can see in the table below, my tastes are pretty consistent across these different playlists. I would give the most weight to Top 100 when answering the question \"What do you listen to\" as it takes play count into effect.\n",
    "\n",
    "**Possible Improvement:** To get these genre counts, I had to deconstruct the 'genres' field in our data. The genres field was most often a list of genres that when combined, would describe the artist's discography. For artists who have changed genres over time, for example someone like Taylor Swift who released a country album to gain popularity but quickly transitioned into being known for pop music, she would be equally represented as both country and pop although the majority of her music would fall under the pop category. Finding a way to measure genre at the album or track level could improve the insights we get from this result.\n",
    "\n",
    "Weighting our micro genres would also more accurately describe our genre count. If an artist is described as [indietronica, chillwave, new rave] instead of adding one to the count of each genre, I could try and add 1/N, where N is the number of genre's describing the artist.\n",
    "\n",
    "| Rank | All Music | Recent Music | Top 100 Last Year | \n",
    "|---|---|---|\n",
    "| 1 |  indietronica | indietronica |  indietronica |\n",
    "| 2 | indie rock | chillwave | indie pop |\n",
    "| 3 | indie pop | wonky | indie rock |\n",
    "| 4 | chillwave | indie pop | chillwave |\n",
    "| 5 | neo-psychedelic | indie r&b | alternative dance |\n",
    "| 6 | alternative dance | alternative dance |  indie r&b |\n",
    "| 7 | shimmer pop | electronic | new rave |\n",
    "| 8 | new rave | new rave  | alternative rock |\n",
    "| 9 | indie r&b | indie rock | electronic |\n",
    "| 10 | indie folk | neo-psychedelic | wonky |"
   ]
  },
  {
   "cell_type": "code",
   "execution_count": 11,
   "metadata": {
    "collapsed": false
   },
   "outputs": [
    {
     "data": {
      "text/html": [
       "<div class='tableauPlaceholder' id='viz1487101314035' style='position: relative'><noscript><a href='#'><img alt='What genres do you listen to? ' src='https:&#47;&#47;public.tableau.com&#47;static&#47;images&#47;3F&#47;3F8C2GG7M&#47;1_rss.png' style='border: none' /></a></noscript><object class='tableauViz'  style='display:none;'><param name='host_url' value='https%3A%2F%2Fpublic.tableau.com%2F' /> <param name='path' value='shared&#47;3F8C2GG7M' /> <param name='toolbar' value='yes' /><param name='static_image' value='https:&#47;&#47;public.tableau.com&#47;static&#47;images&#47;3F&#47;3F8C2GG7M&#47;1.png' /> <param name='animate_transition' value='yes' /><param name='display_static_image' value='yes' /><param name='display_spinner' value='yes' /><param name='display_overlay' value='yes' /><param name='display_count' value='yes' /></object></div>                <script type='text/javascript'>                    var divElement = document.getElementById('viz1487101314035');                    var vizElement = divElement.getElementsByTagName('object')[0];                    vizElement.style.width='1020px';vizElement.style.height='1033px';                    var scriptElement = document.createElement('script');                    scriptElement.src = 'https://public.tableau.com/javascripts/api/viz_v1.js';                    vizElement.parentNode.insertBefore(scriptElement, vizElement);                </script>"
      ],
      "text/plain": [
       "<IPython.core.display.HTML object>"
      ]
     },
     "metadata": {},
     "output_type": "display_data"
    }
   ],
   "source": [
    "%%HTML\n",
    "<div class='tableauPlaceholder' id='viz1487101314035' style='position: relative'><noscript><a href='#'><img alt='What genres do you listen to? ' src='https:&#47;&#47;public.tableau.com&#47;static&#47;images&#47;3F&#47;3F8C2GG7M&#47;1_rss.png' style='border: none' /></a></noscript><object class='tableauViz'  style='display:none;'><param name='host_url' value='https%3A%2F%2Fpublic.tableau.com%2F' /> <param name='path' value='shared&#47;3F8C2GG7M' /> <param name='toolbar' value='yes' /><param name='static_image' value='https:&#47;&#47;public.tableau.com&#47;static&#47;images&#47;3F&#47;3F8C2GG7M&#47;1.png' /> <param name='animate_transition' value='yes' /><param name='display_static_image' value='yes' /><param name='display_spinner' value='yes' /><param name='display_overlay' value='yes' /><param name='display_count' value='yes' /></object></div>                <script type='text/javascript'>                    var divElement = document.getElementById('viz1487101314035');                    var vizElement = divElement.getElementsByTagName('object')[0];                    vizElement.style.width='1020px';vizElement.style.height='1033px';                    var scriptElement = document.createElement('script');                    scriptElement.src = 'https://public.tableau.com/javascripts/api/viz_v1.js';                    vizElement.parentNode.insertBefore(scriptElement, vizElement);                </script>"
   ]
  },
  {
   "cell_type": "markdown",
   "metadata": {},
   "source": [
    "### Question 2: How have your tastes changed over time?\n",
    "\n",
    "**Measure:** Select all genres that have 50 or more occurances in all of my saved music. Visually observe the rankings change between time groupings.\n",
    "\n",
    "**Comments:** I created custom groupings as there was little saved music between 2013-2015 (guess I was too busy working) so we have defined our periods as 2011, 2012, 2013-2015, and 2016 onwards.\n",
    "\n",
    "**Result:** Although we are relying on visual observation here, you can clearly see the difference in genre names in the 2011 grouping and the most recent. 2011 has a lot more indie and folk influence as those genres defined alternative music throughout the late 2000s and early 2010s. In our latest grouping indie folk does not even make the top 20; instead it has been overtaken by obscure electronic micro genres like escape room, vapor twitch, and ninja.\n",
    "\n",
    "**Improvement:** If the data were available it would be nice to view the popularity of these genres (or the bands that define them) over this period. I would like to be able to learn if the popularization of music streaming services, or the general increase in music access, has shortened the popularity phase of music genres. I would also like to know who is naming these genres..."
   ]
  },
  {
   "cell_type": "code",
   "execution_count": 14,
   "metadata": {
    "collapsed": false,
    "scrolled": false
   },
   "outputs": [
    {
     "data": {
      "text/html": [
       "<div class='tableauPlaceholder' id='viz1487101473694' style='position: relative'><noscript><a href='#'><img alt='Genre Breakdown By Frequency - 2011 ' src='https:&#47;&#47;public.tableau.com&#47;static&#47;images&#47;ge&#47;genres_over_time&#47;GenreBreakdownoverTime&#47;1_rss.png' style='border: none' /></a></noscript><object class='tableauViz'  style='display:none;'><param name='host_url' value='https%3A%2F%2Fpublic.tableau.com%2F' /> <param name='site_root' value='' /><param name='name' value='genres_over_time&#47;GenreBreakdownoverTime' /><param name='tabs' value='no' /><param name='toolbar' value='yes' /><param name='static_image' value='https:&#47;&#47;public.tableau.com&#47;static&#47;images&#47;ge&#47;genres_over_time&#47;GenreBreakdownoverTime&#47;1.png' /> <param name='animate_transition' value='yes' /><param name='display_static_image' value='yes' /><param name='display_spinner' value='yes' /><param name='display_overlay' value='yes' /><param name='display_count' value='yes' /></object></div>                <script type='text/javascript'>                    var divElement = document.getElementById('viz1487101473694');                    var vizElement = divElement.getElementsByTagName('object')[0];                    vizElement.style.width='100%';vizElement.style.height=(divElement.offsetWidth*0.75)+'px';                    var scriptElement = document.createElement('script');                    scriptElement.src = 'https://public.tableau.com/javascripts/api/viz_v1.js';                    vizElement.parentNode.insertBefore(scriptElement, vizElement);                </script>"
      ],
      "text/plain": [
       "<IPython.core.display.HTML object>"
      ]
     },
     "metadata": {},
     "output_type": "display_data"
    }
   ],
   "source": [
    "%%HTML\n",
    "<div class='tableauPlaceholder' id='viz1487101473694' style='position: relative'><noscript><a href='#'><img alt='Genre Breakdown By Frequency - 2011 ' src='https:&#47;&#47;public.tableau.com&#47;static&#47;images&#47;ge&#47;genres_over_time&#47;GenreBreakdownoverTime&#47;1_rss.png' style='border: none' /></a></noscript><object class='tableauViz'  style='display:none;'><param name='host_url' value='https%3A%2F%2Fpublic.tableau.com%2F' /> <param name='site_root' value='' /><param name='name' value='genres_over_time&#47;GenreBreakdownoverTime' /><param name='tabs' value='no' /><param name='toolbar' value='yes' /><param name='static_image' value='https:&#47;&#47;public.tableau.com&#47;static&#47;images&#47;ge&#47;genres_over_time&#47;GenreBreakdownoverTime&#47;1.png' /> <param name='animate_transition' value='yes' /><param name='display_static_image' value='yes' /><param name='display_spinner' value='yes' /><param name='display_overlay' value='yes' /><param name='display_count' value='yes' /></object></div>                <script type='text/javascript'>                    var divElement = document.getElementById('viz1487101473694');                    var vizElement = divElement.getElementsByTagName('object')[0];                    vizElement.style.width='100%';vizElement.style.height=(divElement.offsetWidth*0.75)+'px';                    var scriptElement = document.createElement('script');                    scriptElement.src = 'https://public.tableau.com/javascripts/api/viz_v1.js';                    vizElement.parentNode.insertBefore(scriptElement, vizElement);                </script>"
   ]
  },
  {
   "cell_type": "markdown",
   "metadata": {},
   "source": [
    "### Question 3: Are these genres bogus or are there distinctions in their audio features?\n",
    "\n",
    "**Measure:** Select 4 of my top ten genres that my intuition would tell me have distinct features, plot them side by side with their average audio features and observe the differences.\n",
    "\n",
    "**Result:** In an ANOVA test comparing each genre's audio features, we find that acousticness, instrumentalness, danceability, and speechiness are all significant at the p=0.005 (0.5%) level, indicating that there exists a significant difference in the means for these features in this group. That does however suggest that valence and energy do not vary much between this particular group of genres.\n",
    "\n",
    "Additionally, I was confused by the fact that alternative rock, was rated at the lowest average instrumentalness.\n",
    "\n",
    "**Improvement:** Pick either a genre I do not listen to at all or one of my least listened genres and compare; hopefully there would be more significant **visual** changes there."
   ]
  },
  {
   "cell_type": "code",
   "execution_count": 13,
   "metadata": {
    "collapsed": false,
    "scrolled": false
   },
   "outputs": [
    {
     "data": {
      "text/html": [
       "<div class='tableauPlaceholder' id='viz1487101402728' style='position: relative'><noscript><a href='#'><img alt='visualizing genres ' src='https:&#47;&#47;public.tableau.com&#47;static&#47;images&#47;ge&#47;genres_0&#47;visualizinggenres&#47;1_rss.png' style='border: none' /></a></noscript><object class='tableauViz'  style='display:none;'><param name='host_url' value='https%3A%2F%2Fpublic.tableau.com%2F' /> <param name='site_root' value='' /><param name='name' value='genres_0&#47;visualizinggenres' /><param name='tabs' value='no' /><param name='toolbar' value='yes' /><param name='static_image' value='https:&#47;&#47;public.tableau.com&#47;static&#47;images&#47;ge&#47;genres_0&#47;visualizinggenres&#47;1.png' /> <param name='animate_transition' value='yes' /><param name='display_static_image' value='yes' /><param name='display_spinner' value='yes' /><param name='display_overlay' value='yes' /><param name='display_count' value='yes' /></object></div>                <script type='text/javascript'>                    var divElement = document.getElementById('viz1487101402728');                    var vizElement = divElement.getElementsByTagName('object')[0];                    vizElement.style.width='100%';vizElement.style.height=(divElement.offsetWidth*0.75)+'px';                    var scriptElement = document.createElement('script');                    scriptElement.src = 'https://public.tableau.com/javascripts/api/viz_v1.js';                    vizElement.parentNode.insertBefore(scriptElement, vizElement);                </script>"
      ],
      "text/plain": [
       "<IPython.core.display.HTML object>"
      ]
     },
     "metadata": {},
     "output_type": "display_data"
    }
   ],
   "source": [
    "%%HTML\n",
    "<div class='tableauPlaceholder' id='viz1487101402728' style='position: relative'><noscript><a href='#'><img alt='visualizing genres ' src='https:&#47;&#47;public.tableau.com&#47;static&#47;images&#47;ge&#47;genres_0&#47;visualizinggenres&#47;1_rss.png' style='border: none' /></a></noscript><object class='tableauViz'  style='display:none;'><param name='host_url' value='https%3A%2F%2Fpublic.tableau.com%2F' /> <param name='site_root' value='' /><param name='name' value='genres_0&#47;visualizinggenres' /><param name='tabs' value='no' /><param name='toolbar' value='yes' /><param name='static_image' value='https:&#47;&#47;public.tableau.com&#47;static&#47;images&#47;ge&#47;genres_0&#47;visualizinggenres&#47;1.png' /> <param name='animate_transition' value='yes' /><param name='display_static_image' value='yes' /><param name='display_spinner' value='yes' /><param name='display_overlay' value='yes' /><param name='display_count' value='yes' /></object></div>                <script type='text/javascript'>                    var divElement = document.getElementById('viz1487101402728');                    var vizElement = divElement.getElementsByTagName('object')[0];                    vizElement.style.width='100%';vizElement.style.height=(divElement.offsetWidth*0.75)+'px';                    var scriptElement = document.createElement('script');                    scriptElement.src = 'https://public.tableau.com/javascripts/api/viz_v1.js';                    vizElement.parentNode.insertBefore(scriptElement, vizElement);                </script>"
   ]
  },
  {
   "cell_type": "code",
   "execution_count": 78,
   "metadata": {
    "collapsed": false
   },
   "outputs": [
    {
     "name": "stdout",
     "output_type": "stream",
     "text": [
      "energy: F_onewayResult(statistic=1.5286537772728881, pvalue=0.20499107395724531)\n",
      "\n",
      "liveness: F_onewayResult(statistic=2.3324062028645458, pvalue=0.072214437483745619)\n",
      "\n",
      "acousticness: F_onewayResult(statistic=4.9223881804651457, pvalue=0.0020599555348630094)\n",
      "\n",
      "valence: F_onewayResult(statistic=0.41350714326715626, pvalue=0.74331503534095789)\n",
      "\n",
      "instrumentalness: F_onewayResult(statistic=18.010258487073674, pvalue=1.4002789869114019e-11)\n",
      "\n",
      "danceability: F_onewayResult(statistic=38.563380881301278, pvalue=1.9470562708390518e-24)\n",
      "\n",
      "speechiness: F_onewayResult(statistic=96.325688512779223, pvalue=1.8258304655227106e-59)\n",
      "\n"
     ]
    }
   ],
   "source": [
    "import pandas as pd\n",
    "from scipy.stats import f_oneway\n",
    "\n",
    "df = pd.read_csv(\"Genre_Blast.csv\")\n",
    "feature_list = [u'energy', u'liveness', u'acousticness', u'valence', u'instrumentalness', u'danceability', u'speechiness']\n",
    "for feature in feature_list:\n",
    "\n",
    "    altrock = df.loc[df[\"genre\"] == \"alternative rock\", feature].fillna(df.loc[df[\"genre\"] == \"alternative rock\", feature].mean())\n",
    "    chillwave = df.loc[df[\"genre\"] == \"chillwave\", feature].fillna(df.loc[df[\"genre\"] == \"chillwave\", feature].mean())\n",
    "    indietron = df.loc[df[\"genre\"] == \"indietronica\", feature].fillna(df.loc[df[\"genre\"] == \"indietronica\", feature].mean())\n",
    "    wonky = df.loc[df[\"genre\"] == \"wonky\", feature].fillna(df.loc[df[\"genre\"] == \"wonky\", feature].mean())\n",
    "    \n",
    "    print \"{}: {}\".format(feature ,f_oneway(altrock, chillwave, indietron, wonky))\n",
    "    print \"\""
   ]
  },
  {
   "cell_type": "markdown",
   "metadata": {},
   "source": [
    "### Question 4: Based on your genre preferences, who should you see at Coachella this year?\n",
    "\n",
    "**Measure:** Return a list of artists who fall in one or more of my top ten genres. Deconstruct the track's genre list and count how many of the genres in the that list are in my top ten. Repeat this for each artist's top 10 songs adding 1 for each match. Sort the list descending.\n",
    "\n",
    "**Comments:** This measure favors those who cannot be classified with just one genre. All artists are equally likely to appear (since the playlist is composed of the top 10 songs from each artist) but those with more genres are more likely to have a higher score.\n",
    "\n",
    "Example: Lets say Radiohead has a genre list of [indietronica, indie rock]. This means at most, if all of their songs fit only these two genres, they can score a 20 (1 point for a song in my top ten genre, they have 10 songs in 2 genres). Now let's look at Crystal Castles, for the same 10 songs, they might have a genre list [new rave, wonky, electronic, alternative dance] which would score them 40 points. \n",
    "\n",
    "A score of 40 vs 20 doesn't mean that Crystal Castles is a better match, as we showed, they could just have higher potential to score as in this case.\n",
    "\n",
    "**Result:** Whether or not the ordering or sorting is appropriate, the resulting list serves it's intended purpose. It has identified bands I already listen to that I am most excited to see (Real Estate, Future Islands, Empire of the Sun) and placed them toward the top of the list, while keeping those I am not really interested in at the bottom (Snakehips, Bicep, Jamie xx).\n",
    "\n",
    "**Possible Improvement:** The best possible way I could improve recommendations for who I shoud see (i.e. who matches my tastes) would be to use my skills with machine learning to write an item by item classifier. During this project I have likely accumulated enough data to start training a classifier that could label each song in this Coachella set as a reccomended song or not. Since there are different genres that we can assume are generated by differences in the audio features Spotify computes during their audio signal processing, it might be best to build separate classifier for each genre (or form our own 'parent' genres). Let's look at the next question to see how different these genre's really are."
   ]
  },
  {
   "cell_type": "code",
   "execution_count": 12,
   "metadata": {
    "collapsed": false,
    "scrolled": false
   },
   "outputs": [
    {
     "data": {
      "text/html": [
       "<div class='tableauPlaceholder' id='viz1487101360419' style='position: relative'><noscript><a href='#'><img alt='Coachella Artists Matching My Taste In Genre ' src='https:&#47;&#47;public.tableau.com&#47;static&#47;images&#47;co&#47;coachellaartistsinmygenres&#47;CoachellaArtistList&#47;1_rss.png' style='border: none' /></a></noscript><object class='tableauViz'  style='display:none;'><param name='host_url' value='https%3A%2F%2Fpublic.tableau.com%2F' /> <param name='site_root' value='' /><param name='name' value='coachellaartistsinmygenres&#47;CoachellaArtistList' /><param name='tabs' value='no' /><param name='toolbar' value='yes' /><param name='static_image' value='https:&#47;&#47;public.tableau.com&#47;static&#47;images&#47;co&#47;coachellaartistsinmygenres&#47;CoachellaArtistList&#47;1.png' /> <param name='animate_transition' value='yes' /><param name='display_static_image' value='yes' /><param name='display_spinner' value='yes' /><param name='display_overlay' value='yes' /><param name='display_count' value='yes' /></object></div>                <script type='text/javascript'>                    var divElement = document.getElementById('viz1487101360419');                    var vizElement = divElement.getElementsByTagName('object')[0];                    vizElement.style.width='100%';vizElement.style.height=(divElement.offsetWidth*0.75)+'px';                    var scriptElement = document.createElement('script');                    scriptElement.src = 'https://public.tableau.com/javascripts/api/viz_v1.js';                    vizElement.parentNode.insertBefore(scriptElement, vizElement);                </script>"
      ],
      "text/plain": [
       "<IPython.core.display.HTML object>"
      ]
     },
     "metadata": {},
     "output_type": "display_data"
    }
   ],
   "source": [
    "%%HTML\n",
    "<div class='tableauPlaceholder' id='viz1487101360419' style='position: relative'><noscript><a href='#'><img alt='Coachella Artists Matching My Taste In Genre ' src='https:&#47;&#47;public.tableau.com&#47;static&#47;images&#47;co&#47;coachellaartistsinmygenres&#47;CoachellaArtistList&#47;1_rss.png' style='border: none' /></a></noscript><object class='tableauViz'  style='display:none;'><param name='host_url' value='https%3A%2F%2Fpublic.tableau.com%2F' /> <param name='site_root' value='' /><param name='name' value='coachellaartistsinmygenres&#47;CoachellaArtistList' /><param name='tabs' value='no' /><param name='toolbar' value='yes' /><param name='static_image' value='https:&#47;&#47;public.tableau.com&#47;static&#47;images&#47;co&#47;coachellaartistsinmygenres&#47;CoachellaArtistList&#47;1.png' /> <param name='animate_transition' value='yes' /><param name='display_static_image' value='yes' /><param name='display_spinner' value='yes' /><param name='display_overlay' value='yes' /><param name='display_count' value='yes' /></object></div>                <script type='text/javascript'>                    var divElement = document.getElementById('viz1487101360419');                    var vizElement = divElement.getElementsByTagName('object')[0];                    vizElement.style.width='100%';vizElement.style.height=(divElement.offsetWidth*0.75)+'px';                    var scriptElement = document.createElement('script');                    scriptElement.src = 'https://public.tableau.com/javascripts/api/viz_v1.js';                    vizElement.parentNode.insertBefore(scriptElement, vizElement);                </script>"
   ]
  },
  {
   "cell_type": "markdown",
   "metadata": {},
   "source": [
    "## Section 3: Wrap-up: Findings & Limitations\n",
    "\n",
    "Through the course of this project I have examined which genres I listen (and have listened) to, looked at my change in taste over time, examined differences in some of my top genres, and even created a basic method for making artist recommendations.\n",
    "\n",
    "However, as I have stated before, our findings are all based on my saved Spotify music.\n",
    "\n",
    "This does not include:\n",
    "- what I actually listened to (I may save every Radiohead album but I have listened to the SALES EP from SALES for hours on end)\n",
    "- play count with friend's or public playlists\n",
    "- play count on radio or daily mixes\n",
    "- plays from general browsing or recommended artist hopping\n",
    "\n",
    "To really answer some of these questions the best way possible, I would have need access to play history, which is accesible (unfortunately not retroactively) day forward with scrobbling to Last.Fm"
   ]
  }
 ],
 "metadata": {
  "anaconda-cloud": {},
  "kernelspec": {
   "display_name": "Python [conda env:DAND]",
   "language": "python",
   "name": "conda-env-DAND-py"
  },
  "language_info": {
   "codemirror_mode": {
    "name": "ipython",
    "version": 2
   },
   "file_extension": ".py",
   "mimetype": "text/x-python",
   "name": "python",
   "nbconvert_exporter": "python",
   "pygments_lexer": "ipython2",
   "version": "2.7.13"
  }
 },
 "nbformat": 4,
 "nbformat_minor": 1
}
